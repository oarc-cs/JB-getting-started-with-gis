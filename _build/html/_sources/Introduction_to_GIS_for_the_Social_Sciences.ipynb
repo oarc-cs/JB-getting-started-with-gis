{
 "cells": [
  {
   "cell_type": "markdown",
   "metadata": {
    "slideshow": {
     "slide_type": "slide"
    }
   },
   "source": [
    "Introduction to GIS for the Social Sciences\n",
    "-------------------------------------------\n",
    "\n",
    "Now that we have a good understanding of geospatial data, we can explore\n",
    "the GIS connection to the social sciences.\n",
    "\n",
    "Geography is divided into physical geography (natural systems) and human\n",
    "geography (human-made systems). The social sciences sit within\n",
    "human-made systems and the data here is often captured in specific\n",
    "units. Such as number of people living in a specific city or the\n",
    "language spoken in a country. Most of the data we will encounter\n",
    "will be discrete."
   ]
  },
  {
   "cell_type": "markdown",
   "metadata": {
    "slideshow": {
     "slide_type": "slide"
    }
   },
   "source": [
    "The following election result map shows the number of people from each state that voted for either Biden or Trump in the 2020 general election.\n",
    "\n",
    "<img src=\"images/image2021_1.png\" width=800>\n",
    "\n",
    "Source: [New York Times,\n",
    "2020](https://www.nytimes.com/interactive/2020/11/03/us/elections/results-president.html)\n",
    "\n",
    "The states themselves are the boundaries, even though the data is\n",
    "collected at smaller levels.\n",
    "\n",
    "How is that possible? "
   ]
  }
 ],
 "metadata": {
  "celltoolbar": "Slideshow",
  "kernelspec": {
   "display_name": "Python 3 (ipykernel)",
   "language": "python",
   "name": "python3"
  },
  "language_info": {
   "codemirror_mode": {
    "name": "ipython",
    "version": 3
   },
   "file_extension": ".py",
   "mimetype": "text/x-python",
   "name": "python",
   "nbconvert_exporter": "python",
   "pygments_lexer": "ipython3",
   "version": "3.9.12"
  },
  "toc": {
   "base_numbering": 1,
   "nav_menu": {},
   "number_sections": true,
   "sideBar": true,
   "skip_h1_title": false,
   "title_cell": "Table of Contents",
   "title_sidebar": "Contents",
   "toc_cell": true,
   "toc_position": {
    "height": "calc(100% - 180px)",
    "left": "10px",
    "top": "150px",
    "width": "350.797px"
   },
   "toc_section_display": true,
   "toc_window_display": false
  }
 },
 "nbformat": 4,
 "nbformat_minor": 4
}
