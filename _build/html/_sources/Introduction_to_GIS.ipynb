{
 "cells": [
  {
   "cell_type": "markdown",
   "metadata": {
    "slideshow": {
     "slide_type": "slide"
    }
   },
   "source": [
    "Introduction to GIS\n",
    "===================\n",
    "\n",
    "*Special thanks to Albert Kochaphum for sharing some of [his material](https://github.com/albertkun/Introduction_to_GIS_SS_Sp21) for this workshop.*\n",
    "\n",
    "What is GIS? Depending on who you ask, GIS has two meanings:\n",
    "\n",
    "**Geographic Information System** typically refers to applications and\n",
    "software that is used to create spatial data and to investigate spatial\n",
    "relationships between that data.\n",
    "\n",
    "**Geographic Information Science** is the framework we use to ask questions\n",
    "about the spatial relationship between data."
   ]
  },
  {
   "cell_type": "markdown",
   "metadata": {
    "slideshow": {
     "slide_type": "slide"
    }
   },
   "source": [
    "For example, predicting the effects of climate change (rising\n",
    "sea-levels) on low laying areas (elevation) would be an application of\n",
    "Geographic Information Science, while the software to do the predictions\n",
    "would be an example of a Geographic Information System.\n",
    "\n",
    "In short:\n",
    "\n",
    "![](./images/image1.png)"
   ]
  }
 ],
 "metadata": {
  "celltoolbar": "Slideshow",
  "kernelspec": {
   "display_name": "Python 3 (ipykernel)",
   "language": "python",
   "name": "python3"
  },
  "language_info": {
   "codemirror_mode": {
    "name": "ipython",
    "version": 3
   },
   "file_extension": ".py",
   "mimetype": "text/x-python",
   "name": "python",
   "nbconvert_exporter": "python",
   "pygments_lexer": "ipython3",
   "version": "3.9.12"
  },
  "toc": {
   "base_numbering": 1,
   "nav_menu": {},
   "number_sections": true,
   "sideBar": true,
   "skip_h1_title": false,
   "title_cell": "Table of Contents",
   "title_sidebar": "Contents",
   "toc_cell": true,
   "toc_position": {
    "height": "calc(100% - 180px)",
    "left": "10px",
    "top": "150px",
    "width": "350.797px"
   },
   "toc_section_display": true,
   "toc_window_display": false
  }
 },
 "nbformat": 4,
 "nbformat_minor": 4
}
