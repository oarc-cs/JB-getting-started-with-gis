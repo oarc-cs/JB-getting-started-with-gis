{
 "cells": [
  {
   "cell_type": "markdown",
   "metadata": {
    "slideshow": {
     "slide_type": "slide"
    }
   },
   "source": [
    "Spatial Data Formats\n",
    "--------------------\n",
    "\n",
    "There are several data spatial data models that you may encounter as you\n",
    "work with geo data. Geodata formats are commonly divided into two types,\n",
    "vector data or a raster data. In GIS, discrete data means that the data\n",
    "has a fixed location. Continuous data in GIS does not have well defined\n",
    "or no boundary at all, the most common example is elevation. The graphic\n",
    "below shows how vector data and raster data formats can represent\n",
    "continuous or discrete data:\n",
    "\n",
    "![alt text](./images/image3.png)\n",
    "\n",
    "Spatial Data Types (Source: Michele Tobias, UC Davis)\n",
    "\n",
    "The graphic also illustrates how certain vector data is often better\n",
    "suited for discrete data, while raster data is often better used for\n",
    "continuous data. Let's go into a little more detail about each!"
   ]
  }
 ],
 "metadata": {
  "celltoolbar": "Slideshow",
  "kernelspec": {
   "display_name": "Python 3 (ipykernel)",
   "language": "python",
   "name": "python3"
  },
  "language_info": {
   "codemirror_mode": {
    "name": "ipython",
    "version": 3
   },
   "file_extension": ".py",
   "mimetype": "text/x-python",
   "name": "python",
   "nbconvert_exporter": "python",
   "pygments_lexer": "ipython3",
   "version": "3.9.12"
  },
  "toc": {
   "base_numbering": 1,
   "nav_menu": {},
   "number_sections": true,
   "sideBar": true,
   "skip_h1_title": false,
   "title_cell": "Table of Contents",
   "title_sidebar": "Contents",
   "toc_cell": true,
   "toc_position": {
    "height": "calc(100% - 180px)",
    "left": "10px",
    "top": "150px",
    "width": "350.797px"
   },
   "toc_section_display": true,
   "toc_window_display": false
  }
 },
 "nbformat": 4,
 "nbformat_minor": 4
}