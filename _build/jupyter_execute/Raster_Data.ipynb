{
 "cells": [
  {
   "cell_type": "markdown",
   "metadata": {
    "slideshow": {
     "slide_type": "slide"
    }
   },
   "source": [
    "### Raster Data\n",
    "\n",
    "Raster data represents continuous fields or discrete objects on a grid,\n",
    "storing measurements or category names in each cell of the grid.\n",
    "\n",
    "Digital photos are raster data you are already familiar with. If you\n",
    "zoom in far enough on a digital photo, you\\'ll see that photo is made up\n",
    "of pixels, which appear as colored squares. Pixels are cells in a\n",
    "regular grid and each contains the digital code that corresponds to the\n",
    "color that should be displayed there.\n",
    "\n",
    "You may be surprised to see jpgs listed as a data type that you may have\n",
    "thought to be non-spatial, but satellite imagery is commonly stored in\n",
    "photo formats."
   ]
  }
 ],
 "metadata": {
  "celltoolbar": "Slideshow",
  "kernelspec": {
   "display_name": "Python 3 (ipykernel)",
   "language": "python",
   "name": "python3"
  },
  "language_info": {
   "codemirror_mode": {
    "name": "ipython",
    "version": 3
   },
   "file_extension": ".py",
   "mimetype": "text/x-python",
   "name": "python",
   "nbconvert_exporter": "python",
   "pygments_lexer": "ipython3",
   "version": "3.9.12"
  },
  "toc": {
   "base_numbering": 1,
   "nav_menu": {},
   "number_sections": true,
   "sideBar": true,
   "skip_h1_title": false,
   "title_cell": "Table of Contents",
   "title_sidebar": "Contents",
   "toc_cell": true,
   "toc_position": {
    "height": "calc(100% - 180px)",
    "left": "10px",
    "top": "150px",
    "width": "350.797px"
   },
   "toc_section_display": true,
   "toc_window_display": false
  }
 },
 "nbformat": 4,
 "nbformat_minor": 4
}