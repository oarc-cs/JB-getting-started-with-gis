{
 "cells": [
  {
   "cell_type": "markdown",
   "metadata": {
    "slideshow": {
     "slide_type": "slide"
    }
   },
   "source": [
    "### Geographic Hierarchy\n",
    "\n",
    "Move over Aristotle: The **sum** is the whole of its parts!\n",
    "\n",
    "The first law of Geography (and perhaps only) is \"**everything is\n",
    "related to everything else, but nearer things are more related than\n",
    "distant things.**\" When thinking about human data, there are many\n",
    "different units, countries, states, cities, and even households.\n",
    "Whenever this data is being summarized to larger geographies, as long as\n",
    "the smaller boundaries do not overlap then you can do so. However, this\n",
    "does not mean it is always safe to do so, why?"
   ]
  },
  {
   "cell_type": "markdown",
   "metadata": {
    "slideshow": {
     "slide_type": "slide"
    }
   },
   "source": [
    "Keeping the first law of geography in mind, when you summarize smaller\n",
    "data to larger geographies (i.e. going from cities to a state), the\n",
    "nearer things become less related because they are summarized to a\n",
    "larger geographic relation. Let's return to the election map, but\n",
    "break it down into counties to see how the summing of the data changed\n",
    "spatial relationships.\n",
    "\n",
    "<img src=\"images/image2021_2.png\" width=800>\n",
    "\n",
    "\n",
    "Source: [USA Today,\n",
    "2020](https://www.usatoday.com/in-depth/graphics/2020/11/10/election-maps-2020-america-county-results-more-voters/6226197002/#mainContentSection)"
   ]
  },
  {
   "cell_type": "markdown",
   "metadata": {
    "slideshow": {
     "slide_type": "slide"
    }
   },
   "source": [
    "How does this map compare to the previous map?\n",
    "\n",
    "<img src=\"images/image2021_1.png\" width=800>\n",
    "\n",
    "For one thing, you can see that a state like Nevada is not completely blue and has quite a bit of Republican voters. When a whole state is considered “democrat” or blue, such types of simplifications can only occur when data from the counties is summarized upwards to the state level."
   ]
  },
  {
   "cell_type": "markdown",
   "metadata": {
    "slideshow": {
     "slide_type": "slide"
    }
   },
   "source": [
    "Below is an example of how the United States Census Bureau’s uses hierarchal geography: \n",
    "\n",
    "<img src=\"images/image6.png\">"
   ]
  }
 ],
 "metadata": {
  "celltoolbar": "Slideshow",
  "kernelspec": {
   "display_name": "Python 3 (ipykernel)",
   "language": "python",
   "name": "python3"
  },
  "language_info": {
   "codemirror_mode": {
    "name": "ipython",
    "version": 3
   },
   "file_extension": ".py",
   "mimetype": "text/x-python",
   "name": "python",
   "nbconvert_exporter": "python",
   "pygments_lexer": "ipython3",
   "version": "3.9.12"
  },
  "toc": {
   "base_numbering": 1,
   "nav_menu": {},
   "number_sections": true,
   "sideBar": true,
   "skip_h1_title": false,
   "title_cell": "Table of Contents",
   "title_sidebar": "Contents",
   "toc_cell": true,
   "toc_position": {
    "height": "calc(100% - 180px)",
    "left": "10px",
    "top": "150px",
    "width": "350.797px"
   },
   "toc_section_display": true,
   "toc_window_display": false
  }
 },
 "nbformat": 4,
 "nbformat_minor": 4
}