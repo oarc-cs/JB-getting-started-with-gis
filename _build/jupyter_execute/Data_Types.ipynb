{
 "cells": [
  {
   "cell_type": "markdown",
   "metadata": {
    "slideshow": {
     "slide_type": "slide"
    }
   },
   "source": [
    "Data Types\n",
    "----------\n",
    "\n",
    "There are two key distinction between data types, spatial or non-spatial\n",
    "data.\n",
    "\n",
    "Spatial data is data that already contains geographic information.\n",
    "\n",
    "Common file types are the following:\n",
    "\n",
    "-   **Shapefiles:** `.zip` (these are made up of 3 or more files, and the .shp is\n",
    "    commonly used to identify them)\n",
    "\n",
    "-   **KML files:** `.kml`, `.kmz`\n",
    "\n",
    "-   **GeoJSON files:** `.geojson`\n",
    "\n",
    "-   **Image files**: `.jpg`, `.png`, `.tiff`"
   ]
  },
  {
   "cell_type": "markdown",
   "metadata": {
    "slideshow": {
     "slide_type": "slide"
    }
   },
   "source": [
    "Non-spatial data is data that has no geographic information.\n",
    "\n",
    "Common non-spatial data are the following:\n",
    "\n",
    "-   **Excel Spreadsheets**: `.xlsx`, `.xls`\n",
    "\n",
    "-   **Comma/Table Separated Value files**: `.csv`\n",
    "\n",
    "-   **JSON files**: `.json`\n",
    "\n",
    "-   **dBase database file**: `.dbf`\n",
    "\n",
    "When non-spatial data has geographic attributes, like zipcodes,\n",
    "addresses, city names, or even latitude/longitude coordinates it can be\n",
    "turned into spatial data. The distinction is that non-spatial data will\n",
    "only show up as tables in GIS applications."
   ]
  },
  {
   "cell_type": "markdown",
   "metadata": {
    "slideshow": {
     "slide_type": "slide"
    }
   },
   "source": [
    "On the other hand, spatial data that has data attributes can be turned\n",
    "into a non-spatial data type by saving/exporting its data as tables. The\n",
    "following graphic summarizes this relationship:\n",
    "\n",
    "![](./images/image2.png)"
   ]
  }
 ],
 "metadata": {
  "celltoolbar": "Slideshow",
  "kernelspec": {
   "display_name": "Python 3 (ipykernel)",
   "language": "python",
   "name": "python3"
  },
  "language_info": {
   "codemirror_mode": {
    "name": "ipython",
    "version": 3
   },
   "file_extension": ".py",
   "mimetype": "text/x-python",
   "name": "python",
   "nbconvert_exporter": "python",
   "pygments_lexer": "ipython3",
   "version": "3.9.12"
  },
  "toc": {
   "base_numbering": 1,
   "nav_menu": {},
   "number_sections": true,
   "sideBar": true,
   "skip_h1_title": false,
   "title_cell": "Table of Contents",
   "title_sidebar": "Contents",
   "toc_cell": true,
   "toc_position": {
    "height": "calc(100% - 180px)",
    "left": "10px",
    "top": "150px",
    "width": "350.797px"
   },
   "toc_section_display": true,
   "toc_window_display": false
  }
 },
 "nbformat": 4,
 "nbformat_minor": 4
}