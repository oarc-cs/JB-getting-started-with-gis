{
 "cells": [
  {
   "cell_type": "markdown",
   "metadata": {
    "slideshow": {
     "slide_type": "slide"
    }
   },
   "source": [
    "# Introduction to GIS\n",
    "===================\n",
    "\n",
    "*Special thanks to Albert Kochaphum for sharing some of [his material](https://github.com/albertkun/Introduction_to_GIS_SS_Sp21) for this workshop.*\n",
    "\n",
    "What is GIS? Depending on who you ask, GIS has two meanings:\n",
    "\n",
    "**Geographic Information System** typically refers to applications and\n",
    "software that is used to create spatial data and to investigate spatial\n",
    "relationships between that data.\n",
    "\n",
    "**Geographic Information Science** is the framework we use to ask questions\n",
    "about the spatial relationship between data."
   ]
  },
  {
   "cell_type": "markdown",
   "metadata": {
    "slideshow": {
     "slide_type": "slide"
    }
   },
   "source": [
    "For example, predicting the effects of climate change (rising\n",
    "sea-levels) on low laying areas (elevation) would be an application of\n",
    "Geographic Information Science, while the software to do the predictions\n",
    "would be an example of a Geographic Information System.\n",
    "\n",
    "In short:\n",
    "![](./images/image1.png)\n"
   ]
  },
  {
   "cell_type": "markdown",
   "metadata": {
    "slideshow": {
     "slide_type": "slide"
    }
   },
   "source": [
    "## Data Types\n",
    "----------\n",
    "\n",
    "There are two key distinction between data types, spatial or non-spatial\n",
    "data.\n",
    "\n",
    "Spatial data is data that already contains geographic information.\n",
    "\n",
    "Common file types are the following:\n",
    "\n",
    "-   **Shapefiles:** `.zip` (these are made up of 3 or more files, and the .shp is\n",
    "    commonly used to identify them)\n",
    "\n",
    "-   **KML files:** `.kml`, `.kmz`\n",
    "\n",
    "-   **GeoJSON files:** `.geojson`\n",
    "\n",
    "-   **Image files**: `.jpg`, `.png`, `.tiff`"
   ]
  },
  {
   "cell_type": "markdown",
   "metadata": {
    "slideshow": {
     "slide_type": "slide"
    }
   },
   "source": [
    "Non-spatial data is data that has no geographic information.\n",
    "\n",
    "Common non-spatial data are the following:\n",
    "\n",
    "-   **Excel Spreadsheets**: `.xlsx`, `.xls`\n",
    "\n",
    "-   **Comma/Table Separated Value files**: `.csv`\n",
    "\n",
    "-   **JSON files**: `.json`\n",
    "\n",
    "-   **dBase database file**: `.dbf`\n",
    "\n",
    "When non-spatial data has geographic attributes, like zipcodes,\n",
    "addresses, city names, or even latitude/longitude coordinates it can be\n",
    "turned into spatial data. The distinction is that non-spatial data will\n",
    "only show up as tables in GIS applications."
   ]
  },
  {
   "cell_type": "markdown",
   "metadata": {
    "slideshow": {
     "slide_type": "slide"
    }
   },
   "source": [
    "On the other hand, spatial data that has data attributes can be turned\n",
    "into a non-spatial data type by saving/exporting its data as tables. The\n",
    "following graphic summarizes this relationship:\n",
    "\n",
    "![](./images/image2.png)"
   ]
  },
  {
   "cell_type": "markdown",
   "metadata": {
    "slideshow": {
     "slide_type": "slide"
    }
   },
   "source": [
    "## Spatial Data Formats\n",
    "--------------------\n",
    "\n",
    "There are several data spatial data models that you may encounter as you\n",
    "work with geo data. Geodata formats are commonly divided into two types,\n",
    "vector data or a raster data. In GIS, discrete data means that the data\n",
    "has a fixed location. Continuous data in GIS does not have well defined\n",
    "or no boundary at all, the most common example is elevation. The graphic\n",
    "below shows how vector data and raster data formats can represent\n",
    "continuous or discrete data:\n",
    "\n",
    "![alt text](./images/image3.png)\n",
    "\n",
    "Spatial Data Types (Source: Michele Tobias, UC Davis)\n",
    "\n",
    "The graphic also illustrates how certain vector data is often better\n",
    "suited for discrete data, while raster data is often better used for\n",
    "continuous data. Let's go into a little more detail about each!"
   ]
  },
  {
   "cell_type": "markdown",
   "metadata": {
    "slideshow": {
     "slide_type": "slide"
    }
   },
   "source": [
    "### Vector Data\n",
    "\n",
    "Vector data represents discrete objects in the real world with points,\n",
    "lines, and polygons in the dataset.\n",
    "\n",
    "If you were to draw a map to your house for a friend, you would\n",
    "typically use vector data - roads would be lines, a shopping center\n",
    "included as an important landmark might be a rectangle of sorts, and\n",
    "your house might be a point (perhaps represented by a star or a house\n",
    "icon)."
   ]
  },
  {
   "cell_type": "markdown",
   "metadata": {
    "slideshow": {
     "slide_type": "slide"
    }
   },
   "source": [
    "### Raster Data\n",
    "\n",
    "Raster data represents continuous fields or discrete objects on a grid,\n",
    "storing measurements or category names in each cell of the grid.\n",
    "\n",
    "Digital photos are raster data you are already familiar with. If you\n",
    "zoom in far enough on a digital photo, you\\'ll see that photo is made up\n",
    "of pixels, which appear as colored squares. Pixels are cells in a\n",
    "regular grid and each contains the digital code that corresponds to the\n",
    "color that should be displayed there.\n",
    "\n",
    "You may be surprised to see jpgs listed as a data type that you may have\n",
    "thought to be non-spatial, but satellite imagery is commonly stored in\n",
    "photo formats."
   ]
  },
  {
   "cell_type": "markdown",
   "metadata": {
    "slideshow": {
     "slide_type": "slide"
    }
   },
   "source": [
    "## Introduction to GIS for the Social Sciences\n",
    "-------------------------------------------\n",
    "\n",
    "Now that we have a good understanding of geospatial data, we can explore\n",
    "the GIS connection to the social sciences.\n",
    "\n",
    "Geography is divided into physical geography (natural systems) and human\n",
    "geography (human-made systems). The social sciences sit within\n",
    "human-made systems and the data here is often captured in specific\n",
    "units. Such as number of people living in a specific city or the\n",
    "language spoken in a country. Most of the data we will encounter\n",
    "will be discrete."
   ]
  },
  {
   "attachments": {},
   "cell_type": "markdown",
   "metadata": {
    "slideshow": {
     "slide_type": "slide"
    }
   },
   "source": [
    "The following election result map shows the number of people from each state that voted for either Biden or Trump in the 2020 general election.\n",
    "\n",
    "![](./images/image2021_1.png)\n",
    "\n",
    "Source: [New York Times,\n",
    "2020](https://www.nytimes.com/interactive/2020/11/03/us/elections/results-president.html)\n",
    "\n",
    "The states themselves are the boundaries, even though the data is\n",
    "collected at smaller levels.\n",
    "\n",
    "How is that possible? "
   ]
  },
  {
   "cell_type": "markdown",
   "metadata": {
    "slideshow": {
     "slide_type": "slide"
    }
   },
   "source": [
    "### Geographic Hierarchy\n",
    "\n",
    "Move over Aristotle: The **sum** is the whole of its parts!\n",
    "\n",
    "The first law of Geography (and perhaps only) is \"**everything is\n",
    "related to everything else, but nearer things are more related than\n",
    "distant things.**\" When thinking about human data, there are many\n",
    "different units, countries, states, cities, and even households.\n",
    "Whenever this data is being summarized to larger geographies, as long as\n",
    "the smaller boundaries do not overlap then you can do so. However, this\n",
    "does not mean it is always safe to do so, why?"
   ]
  },
  {
   "cell_type": "markdown",
   "metadata": {
    "slideshow": {
     "slide_type": "slide"
    }
   },
   "source": [
    "Keeping the first law of geography in mind, when you summarize smaller\n",
    "data to larger geographies (i.e. going from cities to a state), the\n",
    "nearer things become less related because they are summarized to a\n",
    "larger geographic relation. Let's return to the election map, but\n",
    "break it down into counties to see how the summing of the data changed\n",
    "spatial relationships.\n",
    "\n",
    "![](./images/image2021_2.png)\n",
    "\n",
    "\n",
    "Source: [USA Today,\n",
    "2020](https://www.usatoday.com/in-depth/graphics/2020/11/10/election-maps-2020-america-county-results-more-voters/6226197002/#mainContentSection)"
   ]
  },
  {
   "cell_type": "markdown",
   "metadata": {
    "slideshow": {
     "slide_type": "slide"
    }
   },
   "source": [
    "How does this map compare to the previous map?\n",
    "\n",
    "![](./images/image2021_1.png)\n",
    "\n",
    "For one thing, you can see that a state like Nevada is not completely blue and has quite a bit of Republican voters. When a whole state is considered “democrat” or blue, such types of simplifications can only occur when data from the counties is summarized upwards to the state level."
   ]
  },
  {
   "cell_type": "markdown",
   "metadata": {
    "slideshow": {
     "slide_type": "slide"
    }
   },
   "source": [
    "Below is an example of how the United States Census Bureau’s uses hierarchal geography: \n",
    "\n",
    "<img src=\"images/image6.png\">"
   ]
  }
 ],
 "metadata": {
  "celltoolbar": "Slideshow",
  "kernelspec": {
   "display_name": "Python 3 (ipykernel)",
   "language": "python",
   "name": "python3"
  },
  "language_info": {
   "codemirror_mode": {
    "name": "ipython",
    "version": 3
   },
   "file_extension": ".py",
   "mimetype": "text/x-python",
   "name": "python",
   "nbconvert_exporter": "python",
   "pygments_lexer": "ipython3",
   "version": "3.9.12"
  },
  "toc": {
   "base_numbering": 1,
   "nav_menu": {},
   "number_sections": true,
   "sideBar": true,
   "skip_h1_title": false,
   "title_cell": "Table of Contents",
   "title_sidebar": "Contents",
   "toc_cell": true,
   "toc_position": {
    "height": "calc(100% - 180px)",
    "left": "10px",
    "top": "150px",
    "width": "350.797px"
   },
   "toc_section_display": true,
   "toc_window_display": false
  }
 },
 "nbformat": 4,
 "nbformat_minor": 4
}
